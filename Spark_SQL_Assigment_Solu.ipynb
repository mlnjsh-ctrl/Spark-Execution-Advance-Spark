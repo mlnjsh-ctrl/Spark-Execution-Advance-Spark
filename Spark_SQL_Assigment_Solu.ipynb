{
  "nbformat": 4,
  "nbformat_minor": 0,
  "metadata": {
    "colab": {
      "provenance": []
    },
    "kernelspec": {
      "name": "python3",
      "display_name": "Python 3"
    },
    "language_info": {
      "name": "python"
    }
  },
  "cells": [
    {
      "cell_type": "code",
      "execution_count": null,
      "metadata": {
        "id": "tNnxnFnlBqI8"
      },
      "outputs": [],
      "source": [
        "#1. Distinct Number of Meal Categories and Cuisines\n",
        "SELECT COUNT(DISTINCT category) AS num_categories, COUNT(DISTINCT cuisine) AS num_cuisines FROM meal_info\n"
      ]
    },
    {
      "cell_type": "code",
      "source": [
        "#2. Center ID with the Highest Number of Orders\n",
        "SELECT center_id, SUM(num_orders) AS total_orders FROM weekly_demand GROUP BY center_id ORDER BY total_orders DESC LIMIT 1\n"
      ],
      "metadata": {
        "id": "4ZeFAus9Bx5D"
      },
      "execution_count": null,
      "outputs": []
    },
    {
      "cell_type": "code",
      "source": [
        "#3. Top Selling Cuisine at the Center ID with the Highest Number of Orders\n",
        "#Assuming the center with the highest orders is known (e.g., center_id = X):\n",
        "SELECT mi.cuisine, SUM(wd.num_orders) AS total_orders\n",
        "FROM weekly_demand wd\n",
        "JOIN meal_info mi ON wd.meal_id = mi.meal_id\n",
        "WHERE wd.center_id = X\n",
        "GROUP BY mi.cuisine\n",
        "ORDER BY total_orders DESC\n",
        "LIMIT 1\n"
      ],
      "metadata": {
        "id": "qzqxS2cEB3rH"
      },
      "execution_count": null,
      "outputs": []
    },
    {
      "cell_type": "code",
      "source": [
        "#4. Average Operating Area per Center Type\n",
        "SELECT center_type, AVG(op_area) AS avg_op_area FROM center_info GROUP BY center_type\n"
      ],
      "metadata": {
        "id": "JoAagsUiB_xf"
      },
      "execution_count": null,
      "outputs": []
    },
    {
      "cell_type": "code",
      "source": [
        "#5. Center Type with the Highest Revenue\n",
        "SELECT ci.center_type, SUM(wd.checkout_price * wd.num_orders) AS total_revenue\n",
        "FROM weekly_demand wd\n",
        "JOIN center_info ci ON wd.center_id = ci.center_id\n",
        "GROUP BY ci.center_type\n",
        "ORDER BY total_revenue DESC\n",
        "LIMIT 1\n"
      ],
      "metadata": {
        "id": "XJ9wLrvUCGin"
      },
      "execution_count": null,
      "outputs": []
    },
    {
      "cell_type": "code",
      "source": [
        "#6. Top Ordered Cuisine in Terms of Number of Orders\n",
        "SELECT mi.cuisine, SUM(wd.num_orders) AS total_orders\n",
        "FROM weekly_demand wd\n",
        "JOIN meal_info mi ON wd.meal_id = mi.meal_id\n",
        "GROUP BY mi.cuisine\n",
        "ORDER BY total_orders DESC\n",
        "LIMIT 1\n",
        "\n"
      ],
      "metadata": {
        "id": "mkRvl_9JCNbT"
      },
      "execution_count": null,
      "outputs": []
    },
    {
      "cell_type": "code",
      "source": [
        "#7. Number of Orders per Cuisine per Week\n",
        "SELECT wd.week, mi.cuisine, SUM(wd.num_orders) AS total_orders\n",
        "FROM weekly_demand wd\n",
        "JOIN meal_info mi ON wd.meal_id = mi.meal_id\n",
        "GROUP BY wd.week, mi.cuisine\n",
        "ORDER BY wd.week, total_orders DESC\n"
      ],
      "metadata": {
        "id": "0Wp9TRScCVJO"
      },
      "execution_count": null,
      "outputs": []
    },
    {
      "cell_type": "code",
      "source": [
        "#8. Center ID that Gave the Highest Number of Discounts\n",
        "SELECT center_id, COUNT(*) AS num_discounts\n",
        "FROM weekly_demand\n",
        "WHERE checkout_price < base_price\n",
        "GROUP BY center_id\n",
        "ORDER BY num_discounts DESC\n",
        "LIMIT 1\n",
        "\n"
      ],
      "metadata": {
        "id": "jiaECewvCdPs"
      },
      "execution_count": null,
      "outputs": []
    },
    {
      "cell_type": "code",
      "source": [],
      "metadata": {
        "id": "7frfkZbPCliH"
      },
      "execution_count": null,
      "outputs": []
    }
  ]
}